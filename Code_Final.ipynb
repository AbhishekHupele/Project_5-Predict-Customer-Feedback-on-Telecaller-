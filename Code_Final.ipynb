{
 "cells": [
  {
   "cell_type": "code",
   "execution_count": 1,
   "metadata": {},
   "outputs": [],
   "source": [
    "# Project for Classififcation of FeedBack based on Communication Data\n",
    "# importing libraries\n",
    "import pandas as pd\n",
    "import numpy as np\n",
    "%matplotlib inline\n",
    "import matplotlib.pyplot as plt\n",
    "import seaborn as sns"
   ]
  },
  {
   "cell_type": "code",
   "execution_count": 2,
   "metadata": {},
   "outputs": [],
   "source": [
    "# reading Excel file\n",
    "SampleData1 = pd.read_excel('DA-1.xlsx', 'SampleData1',header=0)\n",
    "SampleData2 = pd.read_excel('DA-1.xlsx', 'SampleData2',header=0)\n",
    "\n",
    "# Merging 2 Sheets\n",
    "SampleData = pd.merge(SampleData1,SampleData2)"
   ]
  },
  {
   "cell_type": "code",
   "execution_count": 3,
   "metadata": {},
   "outputs": [
    {
     "data": {
      "text/html": [
       "<div>\n",
       "<style scoped>\n",
       "    .dataframe tbody tr th:only-of-type {\n",
       "        vertical-align: middle;\n",
       "    }\n",
       "\n",
       "    .dataframe tbody tr th {\n",
       "        vertical-align: top;\n",
       "    }\n",
       "\n",
       "    .dataframe thead th {\n",
       "        text-align: right;\n",
       "    }\n",
       "</style>\n",
       "<table border=\"1\" class=\"dataframe\">\n",
       "  <thead>\n",
       "    <tr style=\"text-align: right;\">\n",
       "      <th></th>\n",
       "      <th>Id</th>\n",
       "      <th>Type</th>\n",
       "      <th>Date</th>\n",
       "      <th>CountA</th>\n",
       "      <th>CountB</th>\n",
       "      <th>CountC</th>\n",
       "      <th>FeedBack</th>\n",
       "      <th>User</th>\n",
       "    </tr>\n",
       "  </thead>\n",
       "  <tbody>\n",
       "    <tr>\n",
       "      <th>0</th>\n",
       "      <td>10121</td>\n",
       "      <td>Email</td>\n",
       "      <td>2016-08-04 10:16:47</td>\n",
       "      <td>0.773005</td>\n",
       "      <td>0.662162</td>\n",
       "      <td>0.622776</td>\n",
       "      <td>Others</td>\n",
       "      <td>A1005</td>\n",
       "    </tr>\n",
       "    <tr>\n",
       "      <th>1</th>\n",
       "      <td>10122</td>\n",
       "      <td>Email</td>\n",
       "      <td>2016-08-04 10:18:28</td>\n",
       "      <td>0.193826</td>\n",
       "      <td>0.870958</td>\n",
       "      <td>0.328081</td>\n",
       "      <td>Others</td>\n",
       "      <td>A1002</td>\n",
       "    </tr>\n",
       "    <tr>\n",
       "      <th>2</th>\n",
       "      <td>10123</td>\n",
       "      <td>Email</td>\n",
       "      <td>2016-08-04 10:30:24</td>\n",
       "      <td>0.772299</td>\n",
       "      <td>0.322429</td>\n",
       "      <td>0.456233</td>\n",
       "      <td>Others</td>\n",
       "      <td>A1002</td>\n",
       "    </tr>\n",
       "    <tr>\n",
       "      <th>3</th>\n",
       "      <td>10124</td>\n",
       "      <td>Email</td>\n",
       "      <td>2016-08-04 10:41:56</td>\n",
       "      <td>0.485769</td>\n",
       "      <td>0.128755</td>\n",
       "      <td>0.575060</td>\n",
       "      <td>Others</td>\n",
       "      <td>A1002</td>\n",
       "    </tr>\n",
       "    <tr>\n",
       "      <th>4</th>\n",
       "      <td>10125</td>\n",
       "      <td>Email</td>\n",
       "      <td>2016-08-04 10:59:00</td>\n",
       "      <td>0.015268</td>\n",
       "      <td>0.216612</td>\n",
       "      <td>0.098125</td>\n",
       "      <td>Others</td>\n",
       "      <td>A1002</td>\n",
       "    </tr>\n",
       "  </tbody>\n",
       "</table>\n",
       "</div>"
      ],
      "text/plain": [
       "      Id   Type                Date    CountA    CountB    CountC FeedBack  \\\n",
       "0  10121  Email 2016-08-04 10:16:47  0.773005  0.662162  0.622776   Others   \n",
       "1  10122  Email 2016-08-04 10:18:28  0.193826  0.870958  0.328081   Others   \n",
       "2  10123  Email 2016-08-04 10:30:24  0.772299  0.322429  0.456233   Others   \n",
       "3  10124  Email 2016-08-04 10:41:56  0.485769  0.128755  0.575060   Others   \n",
       "4  10125  Email 2016-08-04 10:59:00  0.015268  0.216612  0.098125   Others   \n",
       "\n",
       "    User  \n",
       "0  A1005  \n",
       "1  A1002  \n",
       "2  A1002  \n",
       "3  A1002  \n",
       "4  A1002  "
      ]
     },
     "execution_count": 3,
     "metadata": {},
     "output_type": "execute_result"
    }
   ],
   "source": [
    "############################################\n",
    "#                                          #\n",
    "#     2.1 Exploratory Data Analysis        #\n",
    "#                                          #\n",
    "############################################\n",
    "\n",
    "###################################\n",
    "#  2.1.1 understanding the data   #\n",
    "###################################\n",
    "#Checking few observation of dataset\n",
    "SampleData.head()"
   ]
  },
  {
   "cell_type": "code",
   "execution_count": 4,
   "metadata": {},
   "outputs": [
    {
     "name": "stdout",
     "output_type": "stream",
     "text": [
      "<class 'pandas.core.frame.DataFrame'>\n",
      "Int64Index: 66 entries, 0 to 65\n",
      "Data columns (total 8 columns):\n",
      "Id          66 non-null int64\n",
      "Type        64 non-null object\n",
      "Date        66 non-null datetime64[ns]\n",
      "CountA      66 non-null float64\n",
      "CountB      66 non-null float64\n",
      "CountC      66 non-null float64\n",
      "FeedBack    64 non-null object\n",
      "User        66 non-null object\n",
      "dtypes: datetime64[ns](1), float64(3), int64(1), object(3)\n",
      "memory usage: 4.6+ KB\n"
     ]
    }
   ],
   "source": [
    "# looking at information of dataset -> see output\n",
    "SampleData.info()"
   ]
  },
  {
   "cell_type": "code",
   "execution_count": 5,
   "metadata": {},
   "outputs": [
    {
     "data": {
      "text/plain": [
       "((64, 7), (99, 2), (66, 8))"
      ]
     },
     "execution_count": 5,
     "metadata": {},
     "output_type": "execute_result"
    }
   ],
   "source": [
    "SampleData['Id'] = SampleData['Id'].astype('O')\n",
    "SampleData1.shape, SampleData2.shape, SampleData.shape"
   ]
  },
  {
   "cell_type": "code",
   "execution_count": 6,
   "metadata": {},
   "outputs": [
    {
     "data": {
      "text/html": [
       "<div>\n",
       "<style scoped>\n",
       "    .dataframe tbody tr th:only-of-type {\n",
       "        vertical-align: middle;\n",
       "    }\n",
       "\n",
       "    .dataframe tbody tr th {\n",
       "        vertical-align: top;\n",
       "    }\n",
       "\n",
       "    .dataframe thead th {\n",
       "        text-align: right;\n",
       "    }\n",
       "</style>\n",
       "<table border=\"1\" class=\"dataframe\">\n",
       "  <thead>\n",
       "    <tr style=\"text-align: right;\">\n",
       "      <th></th>\n",
       "      <th>CountA</th>\n",
       "      <th>CountB</th>\n",
       "      <th>CountC</th>\n",
       "    </tr>\n",
       "  </thead>\n",
       "  <tbody>\n",
       "    <tr>\n",
       "      <th>count</th>\n",
       "      <td>66.000000</td>\n",
       "      <td>66.000000</td>\n",
       "      <td>66.000000</td>\n",
       "    </tr>\n",
       "    <tr>\n",
       "      <th>mean</th>\n",
       "      <td>0.449231</td>\n",
       "      <td>0.487495</td>\n",
       "      <td>0.425085</td>\n",
       "    </tr>\n",
       "    <tr>\n",
       "      <th>std</th>\n",
       "      <td>0.288190</td>\n",
       "      <td>0.308335</td>\n",
       "      <td>0.270263</td>\n",
       "    </tr>\n",
       "    <tr>\n",
       "      <th>min</th>\n",
       "      <td>0.006013</td>\n",
       "      <td>0.001177</td>\n",
       "      <td>0.006691</td>\n",
       "    </tr>\n",
       "    <tr>\n",
       "      <th>25%</th>\n",
       "      <td>0.221218</td>\n",
       "      <td>0.217050</td>\n",
       "      <td>0.209038</td>\n",
       "    </tr>\n",
       "    <tr>\n",
       "      <th>50%</th>\n",
       "      <td>0.448362</td>\n",
       "      <td>0.544847</td>\n",
       "      <td>0.408826</td>\n",
       "    </tr>\n",
       "    <tr>\n",
       "      <th>75%</th>\n",
       "      <td>0.721173</td>\n",
       "      <td>0.723734</td>\n",
       "      <td>0.641617</td>\n",
       "    </tr>\n",
       "    <tr>\n",
       "      <th>max</th>\n",
       "      <td>0.981381</td>\n",
       "      <td>0.979509</td>\n",
       "      <td>0.976614</td>\n",
       "    </tr>\n",
       "  </tbody>\n",
       "</table>\n",
       "</div>"
      ],
      "text/plain": [
       "          CountA     CountB     CountC\n",
       "count  66.000000  66.000000  66.000000\n",
       "mean    0.449231   0.487495   0.425085\n",
       "std     0.288190   0.308335   0.270263\n",
       "min     0.006013   0.001177   0.006691\n",
       "25%     0.221218   0.217050   0.209038\n",
       "50%     0.448362   0.544847   0.408826\n",
       "75%     0.721173   0.723734   0.641617\n",
       "max     0.981381   0.979509   0.976614"
      ]
     },
     "execution_count": 6,
     "metadata": {},
     "output_type": "execute_result"
    }
   ],
   "source": [
    "# looking at five point summary for our numerical variables\n",
    "SampleData.describe()"
   ]
  },
  {
   "cell_type": "code",
   "execution_count": 7,
   "metadata": {},
   "outputs": [
    {
     "name": "stdout",
     "output_type": "stream",
     "text": [
      "value counts of categorical column\n",
      "\n",
      "## Type ## :- \n",
      "Update    37\n",
      "Email     19\n",
      "Call       7\n",
      "Visit      1\n",
      "Name: Type, dtype: int64\n",
      "## User ## :- \n",
      "A1003    22\n",
      "A1001    18\n",
      "A1002    15\n",
      "A1004     8\n",
      "A1005     3\n",
      "Name: User, dtype: int64\n",
      "## FeedBack ## :- \n",
      "Others        29\n",
      "NC            15\n",
      "nc            13\n",
      "Undecided      2\n",
      "UNDECIDED      2\n",
      "undecided      1\n",
      "undecided      1\n",
      "NI             1\n",
      "Name: FeedBack, dtype: int64\n"
     ]
    }
   ],
   "source": [
    "# counting of each unique values in each categorical variable\n",
    "print(\"value counts of categorical column\")\n",
    "print()\n",
    "for i in ['Type', 'User', 'FeedBack'] :\n",
    "    print('## {} ## :- '.format(i))\n",
    "    print(SampleData[i].value_counts())"
   ]
  },
  {
   "cell_type": "code",
   "execution_count": 8,
   "metadata": {},
   "outputs": [
    {
     "data": {
      "text/html": [
       "<div>\n",
       "<style scoped>\n",
       "    .dataframe tbody tr th:only-of-type {\n",
       "        vertical-align: middle;\n",
       "    }\n",
       "\n",
       "    .dataframe tbody tr th {\n",
       "        vertical-align: top;\n",
       "    }\n",
       "\n",
       "    .dataframe thead tr th {\n",
       "        text-align: left;\n",
       "    }\n",
       "\n",
       "    .dataframe thead tr:last-of-type th {\n",
       "        text-align: right;\n",
       "    }\n",
       "</style>\n",
       "<table border=\"1\" class=\"dataframe\">\n",
       "  <thead>\n",
       "    <tr>\n",
       "      <th></th>\n",
       "      <th colspan=\"4\" halign=\"left\">Id</th>\n",
       "    </tr>\n",
       "    <tr>\n",
       "      <th>Type</th>\n",
       "      <th>Call</th>\n",
       "      <th>Email</th>\n",
       "      <th>Update</th>\n",
       "      <th>Visit</th>\n",
       "    </tr>\n",
       "    <tr>\n",
       "      <th>FeedBack</th>\n",
       "      <th></th>\n",
       "      <th></th>\n",
       "      <th></th>\n",
       "      <th></th>\n",
       "    </tr>\n",
       "  </thead>\n",
       "  <tbody>\n",
       "    <tr>\n",
       "      <th>NC</th>\n",
       "      <td>NaN</td>\n",
       "      <td>NaN</td>\n",
       "      <td>15.0</td>\n",
       "      <td>NaN</td>\n",
       "    </tr>\n",
       "    <tr>\n",
       "      <th>NI</th>\n",
       "      <td>NaN</td>\n",
       "      <td>NaN</td>\n",
       "      <td>NaN</td>\n",
       "      <td>1.0</td>\n",
       "    </tr>\n",
       "    <tr>\n",
       "      <th>Others</th>\n",
       "      <td>7.0</td>\n",
       "      <td>19.0</td>\n",
       "      <td>1.0</td>\n",
       "      <td>NaN</td>\n",
       "    </tr>\n",
       "    <tr>\n",
       "      <th>UNDECIDED</th>\n",
       "      <td>NaN</td>\n",
       "      <td>NaN</td>\n",
       "      <td>2.0</td>\n",
       "      <td>NaN</td>\n",
       "    </tr>\n",
       "    <tr>\n",
       "      <th>Undecided</th>\n",
       "      <td>NaN</td>\n",
       "      <td>NaN</td>\n",
       "      <td>2.0</td>\n",
       "      <td>NaN</td>\n",
       "    </tr>\n",
       "    <tr>\n",
       "      <th>nc</th>\n",
       "      <td>NaN</td>\n",
       "      <td>NaN</td>\n",
       "      <td>13.0</td>\n",
       "      <td>NaN</td>\n",
       "    </tr>\n",
       "    <tr>\n",
       "      <th>undecided</th>\n",
       "      <td>NaN</td>\n",
       "      <td>NaN</td>\n",
       "      <td>1.0</td>\n",
       "      <td>NaN</td>\n",
       "    </tr>\n",
       "    <tr>\n",
       "      <th>undecided</th>\n",
       "      <td>NaN</td>\n",
       "      <td>NaN</td>\n",
       "      <td>1.0</td>\n",
       "      <td>NaN</td>\n",
       "    </tr>\n",
       "  </tbody>\n",
       "</table>\n",
       "</div>"
      ],
      "text/plain": [
       "             Id                   \n",
       "Type       Call Email Update Visit\n",
       "FeedBack                          \n",
       "NC          NaN   NaN   15.0   NaN\n",
       "NI          NaN   NaN    NaN   1.0\n",
       "Others      7.0  19.0    1.0   NaN\n",
       "UNDECIDED   NaN   NaN    2.0   NaN\n",
       "Undecided   NaN   NaN    2.0   NaN\n",
       "nc          NaN   NaN   13.0   NaN\n",
       "undecided   NaN   NaN    1.0   NaN\n",
       "undecided   NaN   NaN    1.0   NaN"
      ]
     },
     "execution_count": 8,
     "metadata": {},
     "output_type": "execute_result"
    }
   ],
   "source": [
    "# Comparing observations for 'FeedBack' and 'Type'\n",
    "SampleData.pivot_table(index='FeedBack', columns='Type',\n",
    "                    aggfunc={'Id':'count'})"
   ]
  },
  {
   "cell_type": "code",
   "execution_count": 9,
   "metadata": {},
   "outputs": [
    {
     "name": "stdout",
     "output_type": "stream",
     "text": [
      "Id 0\n",
      "Type 2\n",
      "Date 0\n",
      "CountA 0\n",
      "CountB 0\n",
      "CountC 0\n",
      "FeedBack 2\n",
      "User 0\n"
     ]
    }
   ],
   "source": [
    "###################################\n",
    "#  2.1.2 Missing value analysis   #\n",
    "###################################\n",
    "    \n",
    "# checking for missing values in dataset\n",
    "for i in SampleData.columns :\n",
    "    print(i, SampleData[i].isnull().sum())   "
   ]
  },
  {
   "cell_type": "code",
   "execution_count": 10,
   "metadata": {},
   "outputs": [
    {
     "data": {
      "text/html": [
       "<div>\n",
       "<style scoped>\n",
       "    .dataframe tbody tr th:only-of-type {\n",
       "        vertical-align: middle;\n",
       "    }\n",
       "\n",
       "    .dataframe tbody tr th {\n",
       "        vertical-align: top;\n",
       "    }\n",
       "\n",
       "    .dataframe thead th {\n",
       "        text-align: right;\n",
       "    }\n",
       "</style>\n",
       "<table border=\"1\" class=\"dataframe\">\n",
       "  <thead>\n",
       "    <tr style=\"text-align: right;\">\n",
       "      <th></th>\n",
       "      <th>Id</th>\n",
       "      <th>Type</th>\n",
       "      <th>Date</th>\n",
       "      <th>CountA</th>\n",
       "      <th>CountB</th>\n",
       "      <th>CountC</th>\n",
       "      <th>FeedBack</th>\n",
       "      <th>User</th>\n",
       "    </tr>\n",
       "  </thead>\n",
       "  <tbody>\n",
       "    <tr>\n",
       "      <th>61</th>\n",
       "      <td>10215</td>\n",
       "      <td>Update</td>\n",
       "      <td>2016-08-04 17:44:26</td>\n",
       "      <td>0.120787</td>\n",
       "      <td>0.825996</td>\n",
       "      <td>0.921125</td>\n",
       "      <td>NC</td>\n",
       "      <td>A1002</td>\n",
       "    </tr>\n",
       "    <tr>\n",
       "      <th>62</th>\n",
       "      <td>10216</td>\n",
       "      <td>Email</td>\n",
       "      <td>2016-08-04 17:44:37</td>\n",
       "      <td>0.035465</td>\n",
       "      <td>0.372469</td>\n",
       "      <td>0.171791</td>\n",
       "      <td>Others</td>\n",
       "      <td>A1004</td>\n",
       "    </tr>\n",
       "    <tr>\n",
       "      <th>63</th>\n",
       "      <td>10217</td>\n",
       "      <td>Update</td>\n",
       "      <td>2016-08-04 18:07:52</td>\n",
       "      <td>0.732037</td>\n",
       "      <td>0.056563</td>\n",
       "      <td>0.378631</td>\n",
       "      <td>NC</td>\n",
       "      <td>A1004</td>\n",
       "    </tr>\n",
       "    <tr>\n",
       "      <th>64</th>\n",
       "      <td>10218</td>\n",
       "      <td>Email</td>\n",
       "      <td>2016-08-04 19:04:04</td>\n",
       "      <td>0.827226</td>\n",
       "      <td>0.816243</td>\n",
       "      <td>0.380863</td>\n",
       "      <td>Others</td>\n",
       "      <td>A1001</td>\n",
       "    </tr>\n",
       "    <tr>\n",
       "      <th>65</th>\n",
       "      <td>10219</td>\n",
       "      <td>Update</td>\n",
       "      <td>2016-08-04 19:04:15</td>\n",
       "      <td>0.637355</td>\n",
       "      <td>0.075972</td>\n",
       "      <td>0.120304</td>\n",
       "      <td>Undecided</td>\n",
       "      <td>A1002</td>\n",
       "    </tr>\n",
       "  </tbody>\n",
       "</table>\n",
       "</div>"
      ],
      "text/plain": [
       "       Id    Type                Date    CountA    CountB    CountC  \\\n",
       "61  10215  Update 2016-08-04 17:44:26  0.120787  0.825996  0.921125   \n",
       "62  10216   Email 2016-08-04 17:44:37  0.035465  0.372469  0.171791   \n",
       "63  10217  Update 2016-08-04 18:07:52  0.732037  0.056563  0.378631   \n",
       "64  10218   Email 2016-08-04 19:04:04  0.827226  0.816243  0.380863   \n",
       "65  10219  Update 2016-08-04 19:04:15  0.637355  0.075972  0.120304   \n",
       "\n",
       "     FeedBack   User  \n",
       "61         NC  A1002  \n",
       "62     Others  A1004  \n",
       "63         NC  A1004  \n",
       "64     Others  A1001  \n",
       "65  Undecided  A1002  "
      ]
     },
     "execution_count": 10,
     "metadata": {},
     "output_type": "execute_result"
    }
   ],
   "source": [
    "# filling NaN values in FeedBack\n",
    "t = pd.Series(SampleData['FeedBack'])\n",
    "SampleData['FeedBack'] = t.fillna('NC')\n",
    "SampleData.tail()"
   ]
  },
  {
   "cell_type": "code",
   "execution_count": 11,
   "metadata": {},
   "outputs": [
    {
     "name": "stderr",
     "output_type": "stream",
     "text": [
      "/anaconda3/lib/python3.6/site-packages/ipykernel_launcher.py:3: DeprecationWarning: \n",
      ".ix is deprecated. Please use\n",
      ".loc for label based indexing or\n",
      ".iloc for positional indexing\n",
      "\n",
      "See the documentation here:\n",
      "http://pandas.pydata.org/pandas-docs/stable/indexing.html#ix-indexer-is-deprecated\n",
      "  This is separate from the ipykernel package so we can avoid doing imports until\n"
     ]
    },
    {
     "data": {
      "text/plain": [
       "NC    60\n",
       "IN     6\n",
       "Name: FeedBack, dtype: int64"
      ]
     },
     "execution_count": 11,
     "metadata": {},
     "output_type": "execute_result"
    }
   ],
   "source": [
    "# Cleaning the FeedBack Data\n",
    "for i in range(SampleData.shape[0]) :\n",
    "    if SampleData.ix[i,'FeedBack'] == 'UNDECIDED':\n",
    "        SampleData.ix[i,'FeedBack'] = 'IN'\n",
    "    elif SampleData.ix[i,'FeedBack'] == 'undecided':\n",
    "        SampleData.ix[i,'FeedBack'] = 'IN'\n",
    "    elif SampleData.ix[i,'FeedBack'] == 'undecided ':\n",
    "        SampleData.ix[i,'FeedBack'] = 'IN'\n",
    "    elif SampleData.ix[i,'FeedBack'] == 'Undecided':\n",
    "        SampleData.ix[i,'FeedBack'] = 'IN'\n",
    "    elif SampleData.ix[i,'FeedBack'] == 'nc':\n",
    "        SampleData.ix[i,'FeedBack'] = 'NC'\n",
    "    elif SampleData.ix[i,'FeedBack'] == 'Others':\n",
    "        SampleData.ix[i,'FeedBack'] = 'NC'\n",
    "    elif SampleData.ix[i,'FeedBack'] == 'NI':\n",
    "        SampleData.ix[i,'FeedBack'] = 'NC'\n",
    "SampleData['FeedBack'].value_counts()\n",
    "#SampleData.pivot_table(index='FeedBack', columns='Type', aggfunc={'Type':'count'})"
   ]
  },
  {
   "cell_type": "code",
   "execution_count": 12,
   "metadata": {},
   "outputs": [],
   "source": [
    "# Cleaning the Type Data\n",
    "for i in range(SampleData.shape[0]) :\n",
    "    if SampleData.ix[i,'Type'] == 'Update':\n",
    "        if SampleData.ix[i,'FeedBack'] == 'NC':\n",
    "            SampleData.ix[i,'Type'] = 'Email'\n",
    "    if SampleData.ix[i,'Type'] == 'Update':\n",
    "        if SampleData.ix[i,'FeedBack'] == 'IN':\n",
    "            SampleData.ix[i,'Type'] = 'Call'"
   ]
  },
  {
   "cell_type": "code",
   "execution_count": 13,
   "metadata": {},
   "outputs": [
    {
     "data": {
      "text/html": [
       "<div>\n",
       "<style scoped>\n",
       "    .dataframe tbody tr th:only-of-type {\n",
       "        vertical-align: middle;\n",
       "    }\n",
       "\n",
       "    .dataframe tbody tr th {\n",
       "        vertical-align: top;\n",
       "    }\n",
       "\n",
       "    .dataframe thead th {\n",
       "        text-align: right;\n",
       "    }\n",
       "</style>\n",
       "<table border=\"1\" class=\"dataframe\">\n",
       "  <thead>\n",
       "    <tr style=\"text-align: right;\">\n",
       "      <th></th>\n",
       "      <th>Id</th>\n",
       "      <th>Type</th>\n",
       "      <th>Date</th>\n",
       "      <th>CountA</th>\n",
       "      <th>CountB</th>\n",
       "      <th>CountC</th>\n",
       "      <th>FeedBack</th>\n",
       "      <th>User</th>\n",
       "    </tr>\n",
       "  </thead>\n",
       "  <tbody>\n",
       "    <tr>\n",
       "      <th>61</th>\n",
       "      <td>10215</td>\n",
       "      <td>Email</td>\n",
       "      <td>2016-08-04 17:44:26</td>\n",
       "      <td>0.120787</td>\n",
       "      <td>0.825996</td>\n",
       "      <td>0.921125</td>\n",
       "      <td>NC</td>\n",
       "      <td>A1002</td>\n",
       "    </tr>\n",
       "    <tr>\n",
       "      <th>62</th>\n",
       "      <td>10216</td>\n",
       "      <td>Email</td>\n",
       "      <td>2016-08-04 17:44:37</td>\n",
       "      <td>0.035465</td>\n",
       "      <td>0.372469</td>\n",
       "      <td>0.171791</td>\n",
       "      <td>NC</td>\n",
       "      <td>A1004</td>\n",
       "    </tr>\n",
       "    <tr>\n",
       "      <th>63</th>\n",
       "      <td>10217</td>\n",
       "      <td>Email</td>\n",
       "      <td>2016-08-04 18:07:52</td>\n",
       "      <td>0.732037</td>\n",
       "      <td>0.056563</td>\n",
       "      <td>0.378631</td>\n",
       "      <td>NC</td>\n",
       "      <td>A1004</td>\n",
       "    </tr>\n",
       "    <tr>\n",
       "      <th>64</th>\n",
       "      <td>10218</td>\n",
       "      <td>Email</td>\n",
       "      <td>2016-08-04 19:04:04</td>\n",
       "      <td>0.827226</td>\n",
       "      <td>0.816243</td>\n",
       "      <td>0.380863</td>\n",
       "      <td>NC</td>\n",
       "      <td>A1001</td>\n",
       "    </tr>\n",
       "    <tr>\n",
       "      <th>65</th>\n",
       "      <td>10219</td>\n",
       "      <td>Call</td>\n",
       "      <td>2016-08-04 19:04:15</td>\n",
       "      <td>0.637355</td>\n",
       "      <td>0.075972</td>\n",
       "      <td>0.120304</td>\n",
       "      <td>IN</td>\n",
       "      <td>A1002</td>\n",
       "    </tr>\n",
       "  </tbody>\n",
       "</table>\n",
       "</div>"
      ],
      "text/plain": [
       "       Id   Type                Date    CountA    CountB    CountC FeedBack  \\\n",
       "61  10215  Email 2016-08-04 17:44:26  0.120787  0.825996  0.921125       NC   \n",
       "62  10216  Email 2016-08-04 17:44:37  0.035465  0.372469  0.171791       NC   \n",
       "63  10217  Email 2016-08-04 18:07:52  0.732037  0.056563  0.378631       NC   \n",
       "64  10218  Email 2016-08-04 19:04:04  0.827226  0.816243  0.380863       NC   \n",
       "65  10219   Call 2016-08-04 19:04:15  0.637355  0.075972  0.120304       IN   \n",
       "\n",
       "     User  \n",
       "61  A1002  \n",
       "62  A1004  \n",
       "63  A1004  \n",
       "64  A1001  \n",
       "65  A1002  "
      ]
     },
     "execution_count": 13,
     "metadata": {},
     "output_type": "execute_result"
    }
   ],
   "source": [
    "# filling NaN value in Type variable\n",
    "l = pd.Series(SampleData['Type'])\n",
    "SampleData['Type'] = l.fillna(method = 'ffill')\n",
    "SampleData.tail()"
   ]
  },
  {
   "cell_type": "code",
   "execution_count": 14,
   "metadata": {},
   "outputs": [],
   "source": [
    "###################################\n",
    "### 2.1.3 Visualising Data        #\n",
    "###################################"
   ]
  },
  {
   "cell_type": "code",
   "execution_count": 15,
   "metadata": {},
   "outputs": [
    {
     "data": {
      "text/html": [
       "<div>\n",
       "<style scoped>\n",
       "    .dataframe tbody tr th:only-of-type {\n",
       "        vertical-align: middle;\n",
       "    }\n",
       "\n",
       "    .dataframe tbody tr th {\n",
       "        vertical-align: top;\n",
       "    }\n",
       "\n",
       "    .dataframe thead th {\n",
       "        text-align: right;\n",
       "    }\n",
       "</style>\n",
       "<table border=\"1\" class=\"dataframe\">\n",
       "  <thead>\n",
       "    <tr style=\"text-align: right;\">\n",
       "      <th></th>\n",
       "      <th>CountA</th>\n",
       "      <th>CountB</th>\n",
       "      <th>CountC</th>\n",
       "    </tr>\n",
       "    <tr>\n",
       "      <th>User</th>\n",
       "      <th></th>\n",
       "      <th></th>\n",
       "      <th></th>\n",
       "    </tr>\n",
       "  </thead>\n",
       "  <tbody>\n",
       "    <tr>\n",
       "      <th>A1001</th>\n",
       "      <td>0.514366</td>\n",
       "      <td>0.632827</td>\n",
       "      <td>0.405684</td>\n",
       "    </tr>\n",
       "    <tr>\n",
       "      <th>A1002</th>\n",
       "      <td>0.396569</td>\n",
       "      <td>0.332355</td>\n",
       "      <td>0.375910</td>\n",
       "    </tr>\n",
       "    <tr>\n",
       "      <th>A1003</th>\n",
       "      <td>0.465083</td>\n",
       "      <td>0.554160</td>\n",
       "      <td>0.485652</td>\n",
       "    </tr>\n",
       "    <tr>\n",
       "      <th>A1004</th>\n",
       "      <td>0.309543</td>\n",
       "      <td>0.250032</td>\n",
       "      <td>0.331924</td>\n",
       "    </tr>\n",
       "    <tr>\n",
       "      <th>A1005</th>\n",
       "      <td>0.577985</td>\n",
       "      <td>0.535551</td>\n",
       "      <td>0.591643</td>\n",
       "    </tr>\n",
       "  </tbody>\n",
       "</table>\n",
       "</div>"
      ],
      "text/plain": [
       "         CountA    CountB    CountC\n",
       "User                               \n",
       "A1001  0.514366  0.632827  0.405684\n",
       "A1002  0.396569  0.332355  0.375910\n",
       "A1003  0.465083  0.554160  0.485652\n",
       "A1004  0.309543  0.250032  0.331924\n",
       "A1005  0.577985  0.535551  0.591643"
      ]
     },
     "execution_count": 15,
     "metadata": {},
     "output_type": "execute_result"
    }
   ],
   "source": [
    "############################################\n",
    "#  3.1 Create the summary table (DA1.png): #        \n",
    "############################################\n",
    "\n",
    "SampleData.groupby('User')[['CountA','CountB','CountC']].mean()"
   ]
  },
  {
   "cell_type": "code",
   "execution_count": 16,
   "metadata": {},
   "outputs": [
    {
     "data": {
      "text/plain": [
       "Text(0.5,0,'CountC')"
      ]
     },
     "execution_count": 16,
     "metadata": {},
     "output_type": "execute_result"
    },
    {
     "data": {
      "image/png": "[encoded data removed]",
      "text/plain": [
       "<matplotlib.figure.Figure at 0x10ad91550>"
      ]
     },
     "metadata": {},
     "output_type": "display_data"
    },
    {
     "data": {
      "image/png": "[encoded data removed]",
      "text/plain": [
       "<matplotlib.figure.Figure at 0x10ad91a58>"
      ]
     },
     "metadata": {},
     "output_type": "display_data"
    },
    {
     "data": {
      "image/png": "[encoded data removed]",
      "text/plain": [
       "<matplotlib.figure.Figure at 0x10adf28d0>"
      ]
     },
     "metadata": {},
     "output_type": "display_data"
    }
   ],
   "source": [
    "# Histogram\n",
    "plt.figure()\n",
    "plt.hist(SampleData['CountA'], alpha = 1, edgecolor = 'black')\n",
    "plt.ylabel('Count of CountA')\n",
    "plt.xlabel('CountA')\n",
    "\n",
    "plt.figure()\n",
    "plt.hist(SampleData['CountB'], alpha = 1, edgecolor = 'black')\n",
    "plt.ylabel('Count of CountB')\n",
    "plt.xlabel('CountB')\n",
    "\n",
    "plt.figure()\n",
    "plt.hist(SampleData['CountC'], alpha = 1, edgecolor = 'black')\n",
    "plt.ylabel('Count of CountC')\n",
    "plt.xlabel('CountC')"
   ]
  },
  {
   "cell_type": "code",
   "execution_count": 17,
   "metadata": {},
   "outputs": [
    {
     "data": {
      "text/plain": [
       "Text(0.5,0,'FeedBack')"
      ]
     },
     "execution_count": 17,
     "metadata": {},
     "output_type": "execute_result"
    },
    {
     "data": {
      "image/png": "[encoded data removed]",
      "text/plain": [
       "<matplotlib.figure.Figure at 0x10aef5a20>"
      ]
     },
     "metadata": {},
     "output_type": "display_data"
    },
    {
     "data": {
      "image/png": "[encoded data removed]",
      "text/plain": [
       "<matplotlib.figure.Figure at 0x10aeaa470>"
      ]
     },
     "metadata": {},
     "output_type": "display_data"
    },
    {
     "data": {
      "image/png": "[encoded data removed]",
      "text/plain": [
       "<matplotlib.figure.Figure at 0x10afae208>"
      ]
     },
     "metadata": {},
     "output_type": "display_data"
    }
   ],
   "source": [
    "# Histogram\n",
    "plt.figure()\n",
    "plt.hist(SampleData['User'], alpha = 1, edgecolor = 'black')\n",
    "plt.ylabel('Count of User')\n",
    "plt.xlabel('User')\n",
    "\n",
    "plt.figure()\n",
    "plt.hist(SampleData['Type'], alpha = 1, edgecolor = 'black')\n",
    "plt.ylabel('Count of Type')\n",
    "plt.xlabel('Type')\n",
    "\n",
    "plt.figure()\n",
    "plt.hist(SampleData['FeedBack'], alpha = 1, edgecolor = 'black')\n",
    "plt.ylabel('Count of FeedBack')\n",
    "plt.xlabel('FeedBack')"
   ]
  },
  {
   "cell_type": "code",
   "execution_count": 18,
   "metadata": {},
   "outputs": [
    {
     "data": {
      "text/plain": [
       "Text(0,0.5,'CountB')"
      ]
     },
     "execution_count": 18,
     "metadata": {},
     "output_type": "execute_result"
    },
    {
     "data": {
      "image/png": "[encoded data removed]",
      "text/plain": [
       "<matplotlib.figure.Figure at 0x1085d8400>"
      ]
     },
     "metadata": {},
     "output_type": "display_data"
    },
    {
     "data": {
      "image/png": "[encoded data removed]",
      "text/plain": [
       "<matplotlib.figure.Figure at 0x10b2d2a90>"
      ]
     },
     "metadata": {},
     "output_type": "display_data"
    },
    {
     "data": {
      "image/png": "[encoded data removed]",
      "text/plain": [
       "<matplotlib.figure.Figure at 0x10b2607f0>"
      ]
     },
     "metadata": {},
     "output_type": "display_data"
    },
    {
     "data": {
      "image/png": "[encoded data removed]",
      "text/plain": [
       "<matplotlib.figure.Figure at 0x10b3849b0>"
      ]
     },
     "metadata": {},
     "output_type": "display_data"
    }
   ],
   "source": [
    "# Scatter Plot\n",
    "import matplotlib.pyplot as plt\n",
    "%matplotlib inline\n",
    "plt.style.use('seaborn-white')\n",
    "\n",
    "plt.figure()\n",
    "plt.plot(SampleData['CountA'],SampleData['CountB'],'o')\n",
    "plt.xlabel('CountA')\n",
    "plt.ylabel('CountB')\n",
    "\n",
    "plt.figure()\n",
    "plt.plot(SampleData['CountB'],SampleData['CountC'],'o')\n",
    "plt.xlabel('CountB')\n",
    "plt.ylabel('CountC')\n",
    "\n",
    "plt.figure()\n",
    "plt.plot(SampleData['CountA'],SampleData['CountC'],'o')\n",
    "plt.xlabel('CountA')\n",
    "plt.ylabel('CountC')\n",
    "\n",
    "plt.figure()\n",
    "plt.plot(SampleData['User'],SampleData['CountB'],'o')\n",
    "plt.xlabel('User')\n",
    "plt.ylabel('CountB')"
   ]
  },
  {
   "cell_type": "code",
   "execution_count": 19,
   "metadata": {},
   "outputs": [
    {
     "data": {
      "text/plain": [
       "Text(0,0.5,'CountB')"
      ]
     },
     "execution_count": 19,
     "metadata": {},
     "output_type": "execute_result"
    },
    {
     "data": {
      "image/png": "[encoded data removed]",
      "text/plain": [
       "<matplotlib.figure.Figure at 0x10b3c1a20>"
      ]
     },
     "metadata": {},
     "output_type": "display_data"
    }
   ],
   "source": [
    "# Scatter Plot\n",
    "import matplotlib.pyplot as plt\n",
    "%matplotlib inline\n",
    "plt.style.use('seaborn-white')\n",
    "\n",
    "plt.figure()\n",
    "plt.plot(SampleData['CountA'],SampleData['CountB'],'o')\n",
    "plt.xlabel('CountA')\n",
    "plt.ylabel('CountB')"
   ]
  },
  {
   "cell_type": "code",
   "execution_count": 20,
   "metadata": {},
   "outputs": [
    {
     "data": {
      "text/plain": [
       "<matplotlib.legend.Legend at 0x10add9d68>"
      ]
     },
     "execution_count": 20,
     "metadata": {},
     "output_type": "execute_result"
    },
    {
     "data": {
      "image/png": "[encoded data removed]",
      "text/plain": [
       "<matplotlib.figure.Figure at 0x10ae240f0>"
      ]
     },
     "metadata": {},
     "output_type": "display_data"
    }
   ],
   "source": [
    "# Line Chart\n",
    "d = SampleData.pivot_table(index='Date',aggfunc={'CountA':sum})\n",
    "d = d.reset_index()\n",
    "plt.plot(d['Date'],d['CountA'])\n",
    "d = SampleData.pivot_table(index='Date',aggfunc={'CountB':sum})\n",
    "d = d.reset_index()\n",
    "plt.plot(d['Date'],d['CountB'])\n",
    "d = SampleData.pivot_table(index='Date',aggfunc={'CountC':sum})\n",
    "d = d.reset_index()\n",
    "plt.plot(d['Date'],d['CountC'])\n",
    "plt.legend()"
   ]
  },
  {
   "cell_type": "code",
   "execution_count": 21,
   "metadata": {},
   "outputs": [
    {
     "data": {
      "image/png": "[encoded data removed]",
      "text/plain": [
       "<matplotlib.figure.Figure at 0x10af908d0>"
      ]
     },
     "metadata": {},
     "output_type": "display_data"
    },
    {
     "data": {
      "image/png": "[encoded data removed]",
      "text/plain": [
       "<matplotlib.figure.Figure at 0x10afb5240>"
      ]
     },
     "metadata": {},
     "output_type": "display_data"
    },
    {
     "data": {
      "image/png": "[encoded data removed]",
      "text/plain": [
       "<matplotlib.figure.Figure at 0x10b025a58>"
      ]
     },
     "metadata": {},
     "output_type": "display_data"
    }
   ],
   "source": [
    "# Boxplot for Outlier Analysis\n",
    "num_var = ['CountA', 'CountB', 'CountC']\n",
    "for i in num_var:\n",
    "    plt.figure()\n",
    "    plt.boxplot(SampleData[i])\n",
    "    plt.xlabel(i)"
   ]
  },
  {
   "cell_type": "code",
   "execution_count": 22,
   "metadata": {},
   "outputs": [],
   "source": [
    "# Dropping Id and Date Variable\n",
    "# Date Variable will be used in Feature Engineering\n",
    "temp1 = SampleData.copy()\n",
    "SampleData = SampleData.drop(['Date','Id'],axis=1)"
   ]
  },
  {
   "cell_type": "code",
   "execution_count": 23,
   "metadata": {},
   "outputs": [
    {
     "name": "stderr",
     "output_type": "stream",
     "text": [
      "/anaconda3/lib/python3.6/site-packages/h5py/__init__.py:36: FutureWarning: Conversion of the second argument of issubdtype from `float` to `np.floating` is deprecated. In future, it will be treated as `np.float64 == np.dtype(float).type`.\n",
      "  from ._conv import register_converters as _register_converters\n",
      "Using TensorFlow backend.\n"
     ]
    }
   ],
   "source": [
    "# Converting Categorical to levels\n",
    "from fancyimpute import KNN\n",
    "temp = SampleData.copy()\n",
    "for i in range(temp.shape[1]) :\n",
    "    if(temp.iloc[:,i].dtypes == 'object') :\n",
    "        temp.iloc[:,i] = pd.Categorical(temp.iloc[:,i])\n",
    "        temp.iloc[:,i] = temp.iloc[:,i].cat.codes\n",
    "SampleData = temp"
   ]
  },
  {
   "cell_type": "code",
   "execution_count": 24,
   "metadata": {},
   "outputs": [
    {
     "data": {
      "text/plain": [
       "'\\nfor i in range(0,temp.shape[1]):\\n    temp.iloc[:,i] = temp.iloc[:,i].replace(-1,np.nan)\\ntemp = pd.DataFrame(KNN(k=3).complete(temp),columns  = temp.columns)\\nSampleData = temp\\nfor i in SampleData.columns :\\n    print(i, SampleData[i].isnull().sum())\\n'"
      ]
     },
     "execution_count": 24,
     "metadata": {},
     "output_type": "execute_result"
    }
   ],
   "source": [
    "'''\n",
    "for i in range(0,temp.shape[1]):\n",
    "    temp.iloc[:,i] = temp.iloc[:,i].replace(-1,np.nan)\n",
    "temp = pd.DataFrame(KNN(k=3).complete(temp),columns  = temp.columns)\n",
    "SampleData = temp\n",
    "for i in SampleData.columns :\n",
    "    print(i, SampleData[i].isnull().sum())\n",
    "'''"
   ]
  },
  {
   "cell_type": "code",
   "execution_count": 25,
   "metadata": {},
   "outputs": [
    {
     "data": {
      "image/png": "[encoded data removed]",
      "text/plain": [
       "<matplotlib.figure.Figure at 0x1a1a0cf978>"
      ]
     },
     "metadata": {},
     "output_type": "display_data"
    }
   ],
   "source": [
    "###################################\n",
    "#  2.1.4 outlier analysis         #\n",
    "###################################\n",
    "###################################\n",
    "# user defined function that will plot boxplot and histogram for four columns\n",
    "def hist_and_box_plot(col1, col2, col3, data, bin1=30, bin2=30, bin3=30, bin4 = 30, sup =\"\"):\n",
    "    fig, ax = plt.subplots(nrows = 2, ncols = 3, figsize= (14,6))\n",
    "    super_title = fig.suptitle(\"Boxplot and Histogram: \"+sup,fontsize='x-large')\n",
    "    plt.tight_layout()\n",
    "    sns.boxplot(y = col1, data = data, ax = ax[0][0])\n",
    "    sns.boxplot(y = col2,data = data, ax = ax[0][1])\n",
    "    sns.boxplot(y = col3, data = data, ax = ax[0][2])\n",
    "    sns.distplot(data[col1], ax = ax[1][0], bins = bin1)\n",
    "    sns.distplot(data[col2], ax = ax[1][1], bins = bin2)\n",
    "    sns.distplot(data[col3], ax = ax[1][2], bins = bin3)\n",
    "    fig.subplots_adjust(top = 0.90)\n",
    "    plt.show()\n",
    "# plotting boxplot and histogram for our numerical variables\n",
    "hist_and_box_plot('CountA', 'CountB', 'CountC', bin1 = 10, data = SampleData)"
   ]
  },
  {
   "cell_type": "code",
   "execution_count": 26,
   "metadata": {},
   "outputs": [
    {
     "data": {
      "image/png": "[encoded data removed]",
      "text/plain": [
       "<matplotlib.figure.Figure at 0x1a1a112b38>"
      ]
     },
     "metadata": {},
     "output_type": "display_data"
    }
   ],
   "source": [
    "###################################\n",
    "#  2.1.4 Feature Engineering      #\n",
    "###################################\n",
    "\n",
    "from datetime import datetime\n",
    "SampleData['hour'] = temp1['Date'].dt.hour\n",
    "\n",
    "# user defined function to plot bar plot of a column for each y i.e. y1 and y2 wrt \n",
    "# unique variables of each x i.e. x1 and x2\n",
    "# X1 and X2 would be categorical variable, y1 and y2 would be continuous\n",
    "# this funciton will plot barplot for y1 column for each unique values of x1 and \n",
    "# will do barplot for y2 for each unique values of x2 and method could be mean,sum etc.\n",
    "def plot_bar(x1, y1,x2, y2, method = 'sum'):\n",
    "    fig, ax = plt.subplots(nrows = 1, ncols = 2, figsize= (12,4), squeeze=False)\n",
    "    super_title = fig.suptitle(\"Bar Plot \",  fontsize='x-large')\n",
    "    if(method == 'mean'):\n",
    "        gp = SampleData.groupby(by = x1).mean()\n",
    "        gp2 = SampleData.groupby(by = x2).mean()\n",
    "    else:\n",
    "        gp = SampleData.groupby(by = x1).sum()\n",
    "        gp2 = SampleData.groupby(by = x2).sum()\n",
    "    gp = gp.reset_index()\n",
    "    gp2 = gp2.reset_index()\n",
    "    sns.barplot(x= x1, y = y1, data = gp, ax=ax[0][0])\n",
    "    sns.barplot(x= x2, y = y2, data = gp2, ax=ax[0][1])\n",
    "    fig.subplots_adjust(top = 0.90)\n",
    "    plt.show()\n",
    "\t\n",
    "\n",
    "# plotting barplot for count i.e. cnt wrt to yr and month\n",
    "plot_bar('FeedBack', 'CountA', 'hour', 'CountA')"
   ]
  },
  {
   "cell_type": "code",
   "execution_count": 27,
   "metadata": {},
   "outputs": [
    {
     "name": "stderr",
     "output_type": "stream",
     "text": [
      "/anaconda3/lib/python3.6/site-packages/ipykernel_launcher.py:3: DeprecationWarning: \n",
      ".ix is deprecated. Please use\n",
      ".loc for label based indexing or\n",
      ".iloc for positional indexing\n",
      "\n",
      "See the documentation here:\n",
      "http://pandas.pydata.org/pandas-docs/stable/indexing.html#ix-indexer-is-deprecated\n",
      "  This is separate from the ipykernel package so we can avoid doing imports until\n"
     ]
    }
   ],
   "source": [
    "# Creating categorical variable time_of_day from hour data variable\n",
    "for i in range(SampleData.shape[0]):\n",
    "    if SampleData.ix[i,'hour'] < 12 :\n",
    "        SampleData.ix[i,'time_of_day'] = 'Morning'\n",
    "    elif SampleData.ix[i,'hour'] <= 17 :\n",
    "        SampleData.ix[i,'time_of_day'] = 'Afternoon'\n",
    "    else :\n",
    "        SampleData.ix[i,'time_of_day'] = 'Night'"
   ]
  },
  {
   "cell_type": "code",
   "execution_count": 28,
   "metadata": {},
   "outputs": [
    {
     "data": {
      "text/plain": [
       "Text(0.5,0,'time_of_day')"
      ]
     },
     "execution_count": 28,
     "metadata": {},
     "output_type": "execute_result"
    },
    {
     "data": {
      "image/png": "[encoded data removed]",
      "text/plain": [
       "<matplotlib.figure.Figure at 0x1a1a0c1908>"
      ]
     },
     "metadata": {},
     "output_type": "display_data"
    }
   ],
   "source": [
    "plt.figure()\n",
    "plt.hist(SampleData['time_of_day'], alpha = 1, edgecolor = 'black')\n",
    "plt.ylabel('Count of time_of_day')\n",
    "plt.xlabel('time_of_day')"
   ]
  },
  {
   "cell_type": "code",
   "execution_count": 29,
   "metadata": {},
   "outputs": [],
   "source": [
    "SampleData.loc[:,'time_of_day'] = pd.Categorical(SampleData.loc[:,'time_of_day'])\n",
    "SampleData.loc[:,'time_of_day'] = SampleData.loc[:,'time_of_day'].cat.codes"
   ]
  },
  {
   "cell_type": "code",
   "execution_count": 30,
   "metadata": {},
   "outputs": [
    {
     "data": {
      "text/plain": [
       "((66, 8),\n",
       " Index(['FeedBack', 'CountA', 'CountB', 'CountC', 'hour', 'Type_0', 'Type_1',\n",
       "        'Type_2'],\n",
       "       dtype='object'))"
      ]
     },
     "execution_count": 30,
     "metadata": {},
     "output_type": "execute_result"
    }
   ],
   "source": [
    "# Dummy Variable Creation\n",
    "num_var = ['CountA','CountB', 'CountC','hour']\n",
    "cat_var = ['Type'] # Dropped as per chi-sq test ['User','time_of_day'] \n",
    "df1 = SampleData.applymap(int)\n",
    "for i in cat_var:\n",
    "    df1[i].astype('str')\n",
    "temp1 = pd.DataFrame(df1['FeedBack'])\n",
    "temp1 = temp1.join(SampleData[num_var])\n",
    "for i in cat_var:\n",
    "    d = pd.get_dummies(df1[i],prefix = i)\n",
    "    temp1 = temp1.join(d)\n",
    "data_hotencod = temp1\n",
    "data_hotencod.shape,data_hotencod.columns"
   ]
  },
  {
   "cell_type": "code",
   "execution_count": 31,
   "metadata": {},
   "outputs": [
    {
     "data": {
      "text/plain": [
       "<seaborn.axisgrid.PairGrid at 0x1a1a90e208>"
      ]
     },
     "execution_count": 31,
     "metadata": {},
     "output_type": "execute_result"
    },
    {
     "data": {
      "image/png": "[encoded data removed]",
      "text/plain": [
       "<matplotlib.figure.Figure at 0x1a1a90e908>"
      ]
     },
     "metadata": {},
     "output_type": "display_data"
    }
   ],
   "source": [
    "# let us look at correlation plot for each numerical variables  \n",
    "num_var = ['CountA','CountB','CountC','hour']\n",
    "sns.pairplot(data_hotencod[num_var])"
   ]
  },
  {
   "cell_type": "code",
   "execution_count": 32,
   "metadata": {},
   "outputs": [
    {
     "data": {
      "text/plain": [
       "<matplotlib.axes._subplots.AxesSubplot at 0x1a1ae1e748>"
      ]
     },
     "execution_count": 32,
     "metadata": {},
     "output_type": "execute_result"
    },
    {
     "data": {
      "image/png": "[encoded data removed]",
      "text/plain": [
       "<matplotlib.figure.Figure at 0x1a1aadba20>"
      ]
     },
     "metadata": {},
     "output_type": "display_data"
    }
   ],
   "source": [
    "#correlation plot\n",
    "num_var = ['CountA','CountB','CountC','hour']\n",
    "data_corr = SampleData.loc[:,num_var]\n",
    "#f,ax = plt.subplots(figsize = (7,5))\n",
    "corr = data_corr.corr()\n",
    "\n",
    "colormap = plt.cm.RdBu\n",
    "plt.figure(figsize=(15,15))\n",
    "plt.title('Pearson Correlation of Features', y=1.0, size=10)\n",
    "sns.heatmap(data_corr.corr(),linewidths=0.2,vmax=1.0, square=True, cmap=colormap, linecolor='white', annot=True)"
   ]
  },
  {
   "cell_type": "code",
   "execution_count": 33,
   "metadata": {},
   "outputs": [
    {
     "name": "stdout",
     "output_type": "stream",
     "text": [
      "Chi-square - test of independence\n",
      "=================================\n",
      "p-value between FeedBack and Type\n",
      "1.4357170403764882e-06\n",
      "----------------------------\n",
      "p-value between FeedBack and User\n",
      "0.9621643388283516\n",
      "----------------------------\n",
      "p-value between FeedBack and time_of_day\n",
      "0.32487339451373193\n",
      "----------------------------\n"
     ]
    }
   ],
   "source": [
    "# checking dependency between FeedBack and independent variable (category)\n",
    "cat_var = ['Type','User','time_of_day']\n",
    "from scipy.stats import chi2_contingency\n",
    "print(\"Chi-square - test of independence\")\n",
    "print(\"=================================\")\n",
    "for i in cat_var:\n",
    "    chi2, p, dof, ex = chi2_contingency(pd.crosstab(SampleData['FeedBack'], SampleData[i]))\n",
    "    print(\"p-value between FeedBack and {}\".format(i))\n",
    "    print(p)\n",
    "    print('----------------------------')"
   ]
  },
  {
   "cell_type": "code",
   "execution_count": 34,
   "metadata": {},
   "outputs": [
    {
     "name": "stdout",
     "output_type": "stream",
     "text": [
      "p-value between 'Type' and 'User'\n",
      "0.19069180044021652\n",
      "----------------------------\n",
      "p-value between 'Type'  and 'time_of_day'\n",
      "0.6602313428432385\n",
      "----------------------------\n",
      "p-value between 'User'  and 'time_of_day'\n",
      "2.900514047022734e-05\n",
      "----------------------------\n"
     ]
    }
   ],
   "source": [
    "# checking independency between independent variables\n",
    "chi2, p, dof, ex = chi2_contingency(pd.crosstab(SampleData['Type'],\n",
    "                                                SampleData['User']))\n",
    "print(\"p-value between 'Type' and 'User'\")\n",
    "print(p)\n",
    "print('----------------------------')\n",
    "\n",
    "# checking independency between independent variables\n",
    "chi2, p, dof, ex = chi2_contingency(pd.crosstab(SampleData['Type'],\n",
    "                                               SampleData['time_of_day']))\n",
    "print(\"p-value between 'Type'  and 'time_of_day'\")\n",
    "print(p)\n",
    "print('----------------------------')\n",
    "\n",
    "# checking independency between independent variables\n",
    "chi2, p, dof, ex = chi2_contingency(pd.crosstab(SampleData['User'],\n",
    "                                               SampleData['time_of_day']))\n",
    "print(\"p-value between 'User'  and 'time_of_day'\")\n",
    "print(p)\n",
    "print('----------------------------')"
   ]
  },
  {
   "cell_type": "code",
   "execution_count": 35,
   "metadata": {},
   "outputs": [
    {
     "data": {
      "text/html": [
       "<div>\n",
       "<style scoped>\n",
       "    .dataframe tbody tr th:only-of-type {\n",
       "        vertical-align: middle;\n",
       "    }\n",
       "\n",
       "    .dataframe tbody tr th {\n",
       "        vertical-align: top;\n",
       "    }\n",
       "\n",
       "    .dataframe thead th {\n",
       "        text-align: right;\n",
       "    }\n",
       "</style>\n",
       "<table border=\"1\" class=\"dataframe\">\n",
       "  <thead>\n",
       "    <tr style=\"text-align: right;\">\n",
       "      <th></th>\n",
       "      <th>Feature</th>\n",
       "      <th>importance</th>\n",
       "    </tr>\n",
       "  </thead>\n",
       "  <tbody>\n",
       "    <tr>\n",
       "      <th>0</th>\n",
       "      <td>Type</td>\n",
       "      <td>0.434280</td>\n",
       "    </tr>\n",
       "    <tr>\n",
       "      <th>1</th>\n",
       "      <td>CountA</td>\n",
       "      <td>0.179720</td>\n",
       "    </tr>\n",
       "    <tr>\n",
       "      <th>2</th>\n",
       "      <td>CountB</td>\n",
       "      <td>0.139154</td>\n",
       "    </tr>\n",
       "    <tr>\n",
       "      <th>3</th>\n",
       "      <td>CountC</td>\n",
       "      <td>0.124393</td>\n",
       "    </tr>\n",
       "    <tr>\n",
       "      <th>4</th>\n",
       "      <td>hour</td>\n",
       "      <td>0.122454</td>\n",
       "    </tr>\n",
       "  </tbody>\n",
       "</table>\n",
       "</div>"
      ],
      "text/plain": [
       "  Feature  importance\n",
       "0    Type    0.434280\n",
       "1  CountA    0.179720\n",
       "2  CountB    0.139154\n",
       "3  CountC    0.124393\n",
       "4    hour    0.122454"
      ]
     },
     "execution_count": 35,
     "metadata": {},
     "output_type": "execute_result"
    }
   ],
   "source": [
    "# checking importance of feature\n",
    "drop_col = ['User','time_of_day','FeedBack']\n",
    "from sklearn.ensemble import ExtraTreesClassifier\n",
    "clf = ExtraTreesClassifier(n_estimators=200)\n",
    "X = SampleData.drop(columns= drop_col)\n",
    "y = SampleData['FeedBack']\n",
    "clf.fit(X, y)\n",
    "imp_feat = pd.DataFrame({'Feature': SampleData.drop(columns=drop_col).columns,\n",
    "                         'importance':clf.feature_importances_})\n",
    "imp_feat.sort_values(by = 'importance', ascending=False).reset_index(drop = True)\n"
   ]
  },
  {
   "cell_type": "code",
   "execution_count": 36,
   "metadata": {},
   "outputs": [
    {
     "data": {
      "text/plain": [
       "const     37.9\n",
       "CountA     1.0\n",
       "CountB     1.1\n",
       "CountC     1.1\n",
       "hour       1.1\n",
       "dtype: float64"
      ]
     },
     "execution_count": 36,
     "metadata": {},
     "output_type": "execute_result"
    }
   ],
   "source": [
    "# Checking VIF values of numeric columns\n",
    "from statsmodels.stats.outliers_influence import variance_inflation_factor as vf\n",
    "from statsmodels.tools.tools import add_constant\n",
    "numeric_df = add_constant(SampleData[num_var])\n",
    "vif = pd.Series([vf(numeric_df.values, i) for i in range(numeric_df.shape[1])], \n",
    "                 index = numeric_df.columns)\n",
    "vif.round(1) "
   ]
  },
  {
   "cell_type": "code",
   "execution_count": 37,
   "metadata": {},
   "outputs": [
    {
     "data": {
      "text/plain": [
       "'\\n# Feature Scaling\\n# Not Requireed_see explanation in Report\\nfor i in num_var:\\n   data_hotencod[i]  = (data_hotencod[i] - min(data_hotencod[i]))/(max(data_hotencod[i]) - min(data_hotencod[i]))\\n'"
      ]
     },
     "execution_count": 37,
     "metadata": {},
     "output_type": "execute_result"
    }
   ],
   "source": [
    "'''\n",
    "# Feature Scaling\n",
    "# Not Requireed_see explanation in Report\n",
    "for i in num_var:\n",
    "   data_hotencod[i]  = (data_hotencod[i] - min(data_hotencod[i]))/(max(data_hotencod[i]) - min(data_hotencod[i]))\n",
    "'''"
   ]
  },
  {
   "cell_type": "code",
   "execution_count": 38,
   "metadata": {},
   "outputs": [],
   "source": [
    "# splitting in X and y for train and test\n",
    "from sklearn.feature_selection import SelectKBest, f_classif\n",
    "from sklearn.model_selection import train_test_split\n",
    "X_train, X_test, y_train, y_test = train_test_split(data_hotencod.iloc[:,1:8],data_hotencod.iloc[:,0], test_size=0.2,\n",
    "                                                    random_state=42)"
   ]
  },
  {
   "cell_type": "code",
   "execution_count": 39,
   "metadata": {},
   "outputs": [],
   "source": [
    "############################################\n",
    "#                                          #\n",
    "#                                          #\n",
    "#   2.2.2 Building Classification models   #\n",
    "#                                          #\n",
    "#                                          #\n",
    "############################################\n",
    "\n",
    "# making general function to fit and predict result (Confusion Matrix) \n",
    "# and performance (K-fold CV) and to not to repeat code everytime\n",
    "from sklearn.metrics import classification_report, confusion_matrix\n",
    "from sklearn.model_selection import cross_val_score\n",
    "def fit_predict_show_performance(classifier, X_train, y_train):\n",
    "    '''\n",
    "    this function will fit on data passed in argument then it will predict on\n",
    "    X_test datasetand then will calculate the 10 fold CV accuracy score and then will \n",
    "    generate classification report and confusion matrix based on prediction and y_test\n",
    "    it will only print result, to get all calculated result, uncomment last line and \n",
    "    call it like below example:\n",
    "    y_pred, cr, cm = fit_predict_show_performance(classifier, X_train, y_train)\n",
    "    '''\n",
    "    # fitting model\n",
    "    classifier.fit(X_train, y_train)\n",
    "    prediction = classifier.predict(X_test)\n",
    "    # getting K-fold CV scores for K = 10\n",
    "    ten_performances = cross_val_score(estimator=classifier,X=X_train,y=y_train,cv=10)\n",
    "    k_fold_performance = ten_performances.mean()\n",
    "    print(\"K-fold cross validation score of model for k = 10 is :\")\n",
    "    print(k_fold_performance)\n",
    "    print(\"====================================\")\n",
    "    print(\"====== Classification Report ======= \")\n",
    "    cr = classification_report(y_test,prediction)\n",
    "    print(cr)\n",
    "    print(\"====== Confusion matrix ======= \")\n",
    "    cm = confusion_matrix(y_test,prediction)\n",
    "    print(cm)\n",
    "    #return [prediction, cr, cm]\n"
   ]
  },
  {
   "cell_type": "code",
   "execution_count": 40,
   "metadata": {},
   "outputs": [
    {
     "name": "stdout",
     "output_type": "stream",
     "text": [
      "K-fold cross validation score of model for k = 10 is :\n",
      "0.9166666666666667\n",
      "====================================\n",
      "====== Classification Report ======= \n",
      "             precision    recall  f1-score   support\n",
      "\n",
      "          0       0.00      0.00      0.00         1\n",
      "          1       0.93      1.00      0.96        13\n",
      "\n",
      "avg / total       0.86      0.93      0.89        14\n",
      "\n",
      "====== Confusion matrix ======= \n",
      "[[ 0  1]\n",
      " [ 0 13]]\n"
     ]
    },
    {
     "name": "stderr",
     "output_type": "stream",
     "text": [
      "/anaconda3/lib/python3.6/site-packages/sklearn/model_selection/_split.py:605: Warning: The least populated class in y has only 5 members, which is too few. The minimum number of members in any class cannot be less than n_splits=10.\n",
      "  % (min_groups, self.n_splits)), Warning)\n",
      "/anaconda3/lib/python3.6/site-packages/sklearn/metrics/classification.py:1135: UndefinedMetricWarning: Precision and F-score are ill-defined and being set to 0.0 in labels with no predicted samples.\n",
      "  'precision', 'predicted', average, warn_for)\n"
     ]
    }
   ],
   "source": [
    "#########################\n",
    "#  Logistic Regression  #\n",
    "#########################\n",
    "    \n",
    "# Building Logistic Regression-> see output\n",
    "from sklearn.linear_model import LogisticRegression\n",
    "classifier = LogisticRegression()\n",
    "fit_predict_show_performance(classifier, X_train, y_train)"
   ]
  },
  {
   "cell_type": "code",
   "execution_count": 41,
   "metadata": {},
   "outputs": [
    {
     "name": "stdout",
     "output_type": "stream",
     "text": [
      "K-fold cross validation score of model for k = 10 is :\n",
      "0.9016666666666667\n",
      "====================================\n",
      "====== Classification Report ======= \n",
      "             precision    recall  f1-score   support\n",
      "\n",
      "          0       0.00      0.00      0.00         1\n",
      "          1       0.92      0.85      0.88        13\n",
      "\n",
      "avg / total       0.85      0.79      0.82        14\n",
      "\n",
      "====== Confusion matrix ======= \n",
      "[[ 0  1]\n",
      " [ 2 11]]\n"
     ]
    },
    {
     "name": "stderr",
     "output_type": "stream",
     "text": [
      "/anaconda3/lib/python3.6/site-packages/sklearn/model_selection/_split.py:605: Warning: The least populated class in y has only 5 members, which is too few. The minimum number of members in any class cannot be less than n_splits=10.\n",
      "  % (min_groups, self.n_splits)), Warning)\n"
     ]
    }
   ],
   "source": [
    "#########################\n",
    "#       KNN             #\n",
    "#########################\n",
    "from sklearn.neighbors import KNeighborsClassifier\n",
    "classifier = KNeighborsClassifier(n_neighbors = 5, metric = 'minkowski',p =2)\n",
    "fit_predict_show_performance(classifier, X_train, y_train)"
   ]
  },
  {
   "cell_type": "code",
   "execution_count": 42,
   "metadata": {},
   "outputs": [
    {
     "name": "stderr",
     "output_type": "stream",
     "text": [
      "/anaconda3/lib/python3.6/site-packages/sklearn/model_selection/_split.py:605: Warning: The least populated class in y has only 5 members, which is too few. The minimum number of members in any class cannot be less than n_splits=10.\n",
      "  % (min_groups, self.n_splits)), Warning)\n"
     ]
    },
    {
     "name": "stdout",
     "output_type": "stream",
     "text": [
      "K-fold cross validation score of model for k = 10 is :\n",
      "0.9183333333333333\n",
      "====================================\n",
      "====== Classification Report ======= \n",
      "             precision    recall  f1-score   support\n",
      "\n",
      "          0       0.20      1.00      0.33         1\n",
      "          1       1.00      0.69      0.82        13\n",
      "\n",
      "avg / total       0.94      0.71      0.78        14\n",
      "\n",
      "====== Confusion matrix ======= \n",
      "[[1 0]\n",
      " [4 9]]\n"
     ]
    }
   ],
   "source": [
    "#########################\n",
    "#     Naive Bayes       #\n",
    "#########################-> see output\n",
    "from sklearn.naive_bayes import GaussianNB\n",
    "classifier = GaussianNB()\n",
    "fit_predict_show_performance(classifier, X_train, y_train)"
   ]
  },
  {
   "cell_type": "code",
   "execution_count": 43,
   "metadata": {},
   "outputs": [
    {
     "name": "stderr",
     "output_type": "stream",
     "text": [
      "/anaconda3/lib/python3.6/site-packages/sklearn/model_selection/_split.py:605: Warning: The least populated class in y has only 5 members, which is too few. The minimum number of members in any class cannot be less than n_splits=10.\n",
      "  % (min_groups, self.n_splits)), Warning)\n"
     ]
    },
    {
     "name": "stdout",
     "output_type": "stream",
     "text": [
      "K-fold cross validation score of model for k = 10 is :\n",
      "0.9216666666666666\n",
      "====================================\n",
      "====== Classification Report ======= \n",
      "             precision    recall  f1-score   support\n",
      "\n",
      "          0       0.33      1.00      0.50         1\n",
      "          1       1.00      0.85      0.92        13\n",
      "\n",
      "avg / total       0.95      0.86      0.89        14\n",
      "\n",
      "====== Confusion matrix ======= \n",
      "[[ 1  0]\n",
      " [ 2 11]]\n"
     ]
    }
   ],
   "source": [
    "#########################\n",
    "#    Decision Tree      #\n",
    "#########################-> see output\n",
    "from sklearn.tree import DecisionTreeClassifier\n",
    "classifier = DecisionTreeClassifier(criterion = 'entropy', random_state=1)\n",
    "fit_predict_show_performance(classifier, X_train, y_train)"
   ]
  },
  {
   "cell_type": "code",
   "execution_count": 44,
   "metadata": {},
   "outputs": [
    {
     "name": "stderr",
     "output_type": "stream",
     "text": [
      "/anaconda3/lib/python3.6/site-packages/sklearn/model_selection/_split.py:605: Warning: The least populated class in y has only 5 members, which is too few. The minimum number of members in any class cannot be less than n_splits=10.\n",
      "  % (min_groups, self.n_splits)), Warning)\n"
     ]
    },
    {
     "name": "stdout",
     "output_type": "stream",
     "text": [
      "K-fold cross validation score of model for k = 10 is :\n",
      "0.925\n",
      "====================================\n",
      "====== Classification Report ======= \n",
      "             precision    recall  f1-score   support\n",
      "\n",
      "          0       0.33      1.00      0.50         1\n",
      "          1       1.00      0.85      0.92        13\n",
      "\n",
      "avg / total       0.95      0.86      0.89        14\n",
      "\n",
      "====== Confusion matrix ======= \n",
      "[[ 1  0]\n",
      " [ 2 11]]\n"
     ]
    }
   ],
   "source": [
    "#########################\n",
    "#    Random Forest      #\n",
    "#########################-> see output\n",
    "from sklearn.ensemble import RandomForestClassifier\n",
    "classifier = RandomForestClassifier(n_estimators = 10, criterion = 'entropy',\n",
    "                                          random_state=1)\n",
    "fit_predict_show_performance(classifier, X_train, y_train)"
   ]
  },
  {
   "cell_type": "code",
   "execution_count": 46,
   "metadata": {},
   "outputs": [
    {
     "name": "stderr",
     "output_type": "stream",
     "text": [
      "/anaconda3/lib/python3.6/site-packages/sklearn/model_selection/_split.py:605: Warning: The least populated class in y has only 5 members, which is too few. The minimum number of members in any class cannot be less than n_splits=10.\n",
      "  % (min_groups, self.n_splits)), Warning)\n"
     ]
    },
    {
     "data": {
      "text/plain": [
       "{'class_weight': 'balanced',\n",
       " 'criterion': 'entropy',\n",
       " 'max_depth': 6,\n",
       " 'random_state': 1}"
      ]
     },
     "execution_count": 46,
     "metadata": {},
     "output_type": "execute_result"
    }
   ],
   "source": [
    "############################################\n",
    "#                                          #\n",
    "#                                          #\n",
    "#        Hyperparameter tuning             #\n",
    "#                                          #\n",
    "#                                          #\n",
    "############################################\n",
    "#########################################\n",
    "#                                       #\n",
    "# tuning decision tree for dataset #\n",
    "#                                       #\n",
    "#########################################\n",
    "\n",
    "# hyperparameter tuning for Decision tree classifier\n",
    "from sklearn.model_selection import GridSearchCV\n",
    "classifier = DecisionTreeClassifier(random_state=1)\n",
    "params = [{'criterion':['entropy', 'gini'],\n",
    "          'max_depth':[6,8,10,12,20],'class_weight':['balanced',{0:0.45, 1:0.55}, \n",
    "                      {0:0.55,1:0.45},{0:0.40,1:0.60}],'random_state' :[1]}]\n",
    "grid_search = GridSearchCV(estimator=classifier, param_grid=params,\n",
    "                          scoring = 'f1', cv = 10, n_jobs=-1)\n",
    "\n",
    "# tuning Decision Tree for dataset-> see output\n",
    "grid_search = grid_search.fit(X_train, y_train)\n",
    "grid_search.best_params_"
   ]
  },
  {
   "cell_type": "code",
   "execution_count": 47,
   "metadata": {},
   "outputs": [
    {
     "name": "stdout",
     "output_type": "stream",
     "text": [
      "K-fold cross validation score of model for k = 10 is :\n",
      "0.9383333333333332\n",
      "====================================\n",
      "====== Classification Report ======= \n",
      "             precision    recall  f1-score   support\n",
      "\n",
      "          0       0.00      0.00      0.00         1\n",
      "          1       0.90      0.69      0.78        13\n",
      "\n",
      "avg / total       0.84      0.64      0.73        14\n",
      "\n",
      "====== Confusion matrix ======= \n",
      "[[0 1]\n",
      " [4 9]]\n"
     ]
    },
    {
     "name": "stderr",
     "output_type": "stream",
     "text": [
      "/anaconda3/lib/python3.6/site-packages/sklearn/model_selection/_split.py:605: Warning: The least populated class in y has only 5 members, which is too few. The minimum number of members in any class cannot be less than n_splits=10.\n",
      "  % (min_groups, self.n_splits)), Warning)\n"
     ]
    }
   ],
   "source": [
    "#Decision tree classifier\n",
    "#from sklearn.tree import DecisionTreeClassifier\n",
    "classifier = DecisionTreeClassifier(criterion = 'entropy', \n",
    "                                          class_weight='balanced',max_depth=6,\n",
    "                                          random_state=1)\n",
    "fit_predict_show_performance(classifier, X_train, y_train)"
   ]
  },
  {
   "cell_type": "code",
   "execution_count": 48,
   "metadata": {},
   "outputs": [
    {
     "name": "stderr",
     "output_type": "stream",
     "text": [
      "/anaconda3/lib/python3.6/site-packages/sklearn/model_selection/_split.py:605: Warning: The least populated class in y has only 5 members, which is too few. The minimum number of members in any class cannot be less than n_splits=10.\n",
      "  % (min_groups, self.n_splits)), Warning)\n"
     ]
    },
    {
     "data": {
      "text/plain": [
       "{'class_weight': 'balanced',\n",
       " 'criterion': 'entropy',\n",
       " 'max_depth': 8,\n",
       " 'n_estimators': 800,\n",
       " 'random_state': 1}"
      ]
     },
     "execution_count": 48,
     "metadata": {},
     "output_type": "execute_result"
    }
   ],
   "source": [
    "############ Hyperparameter tuning for Random Forest #############\n",
    "# Grid search for finding best parameter for random_forest \n",
    "classifier = RandomForestClassifier(random_state=1)\n",
    "params=[{'criterion':['entropy', 'gini'],'n_estimators':[800,1000],\n",
    "         'max_depth': [8, 10, 12], 'class_weight':['balanced', {0:0.45, 1:0.55},\n",
    "                      {0:0.55, 1:0.45}],'random_state' :[1]}]\n",
    "grid_search = GridSearchCV(estimator=classifier, param_grid=params,\n",
    "                          scoring = 'f1', cv = 10, n_jobs=-1)\n",
    "grid_search = grid_search.fit(X_train, y_train)\n",
    "grid_search.best_params_"
   ]
  },
  {
   "cell_type": "code",
   "execution_count": 49,
   "metadata": {},
   "outputs": [
    {
     "name": "stderr",
     "output_type": "stream",
     "text": [
      "/anaconda3/lib/python3.6/site-packages/sklearn/model_selection/_split.py:605: Warning: The least populated class in y has only 5 members, which is too few. The minimum number of members in any class cannot be less than n_splits=10.\n",
      "  % (min_groups, self.n_splits)), Warning)\n"
     ]
    },
    {
     "name": "stdout",
     "output_type": "stream",
     "text": [
      "K-fold cross validation score of model for k = 10 is :\n",
      "0.925\n",
      "====================================\n",
      "====== Classification Report ======= \n",
      "             precision    recall  f1-score   support\n",
      "\n",
      "          0       0.20      1.00      0.33         1\n",
      "          1       1.00      0.69      0.82        13\n",
      "\n",
      "avg / total       0.94      0.71      0.78        14\n",
      "\n",
      "====== Confusion matrix ======= \n",
      "[[1 0]\n",
      " [4 9]]\n"
     ]
    }
   ],
   "source": [
    "# tuned randomforest model \n",
    "classifier = RandomForestClassifier(n_estimators = 800, criterion = 'entropy',\n",
    "                                          class_weight='balanced',max_depth=8,\n",
    "                                          random_state=1)\n",
    "fit_predict_show_performance(classifier, X_train, y_train)"
   ]
  },
  {
   "cell_type": "code",
   "execution_count": 50,
   "metadata": {},
   "outputs": [
    {
     "name": "stdout",
     "output_type": "stream",
     "text": [
      "(118, 7)\n",
      "(118,)\n",
      "class proportion\n",
      "1    0.5\n",
      "0    0.5\n",
      "dtype: float64\n"
     ]
    }
   ],
   "source": [
    "############################################\n",
    "#                                          #\n",
    "#    SMOTE + Tomek (Oversampling)          #\n",
    "#         Balancing Target                 #\n",
    "#                                          #\n",
    "############################################\n",
    "\n",
    "# resmapling data \n",
    "from imblearn.combine import SMOTETomek\n",
    "smt = SMOTETomek()\n",
    "#X_resampled, y_resampled = smt.fit_sample((X_train), (y_train))\n",
    "X_resampled, y_resampled = smt.fit_sample(data_hotencod.iloc[:,1:8], data_hotencod.iloc[:,0])\n",
    "\n",
    "# checking shape of data after resampling\n",
    "print(X_resampled.shape)\n",
    "print(y_resampled.shape)\n",
    "print(\"class proportion\")\n",
    "print(pd.Series(y_resampled).value_counts(normalize = True))"
   ]
  },
  {
   "cell_type": "code",
   "execution_count": 51,
   "metadata": {},
   "outputs": [
    {
     "data": {
      "text/plain": [
       "{'class_weight': 'balanced',\n",
       " 'criterion': 'entropy',\n",
       " 'max_depth': 24,\n",
       " 'n_estimators': 600,\n",
       " 'random_state': 1}"
      ]
     },
     "execution_count": 51,
     "metadata": {},
     "output_type": "execute_result"
    }
   ],
   "source": [
    "# tuning Random forest model for resampled data\n",
    "classifier = RandomForestClassifier(random_state=1)\n",
    "params = [{'criterion':['entropy','gini'],'n_estimators':[600, 800, 1000],\n",
    "          'max_depth': [24, 26, 28], 'random_state' :[1],\n",
    "          'class_weight':['balanced', {0:0.45, 1:0.55},{0:0.55, 1:0.45}]}]\n",
    "grid_search = GridSearchCV(estimator=classifier, param_grid=params,\n",
    "                          scoring = 'f1', cv = 10, n_jobs=-1)\n",
    "grid_search = grid_search.fit(X_resampled, y_resampled)\n",
    "grid_search.best_params_"
   ]
  },
  {
   "cell_type": "code",
   "execution_count": 52,
   "metadata": {},
   "outputs": [
    {
     "name": "stdout",
     "output_type": "stream",
     "text": [
      "K-fold cross validation score of model for k = 10 is :\n",
      "0.9833333333333332\n",
      "====================================\n",
      "====== Classification Report ======= \n",
      "             precision    recall  f1-score   support\n",
      "\n",
      "          0       0.50      1.00      0.67         1\n",
      "          1       1.00      0.92      0.96        13\n",
      "\n",
      "avg / total       0.96      0.93      0.94        14\n",
      "\n",
      "====== Confusion matrix ======= \n",
      "[[ 1  0]\n",
      " [ 1 12]]\n"
     ]
    }
   ],
   "source": [
    "# building Random Forest model on tuned parameter\n",
    "classifier = RandomForestClassifier(n_estimators = 600, criterion = 'entropy',\n",
    "                                          class_weight='balanced',\n",
    "                                          max_depth=24,random_state=1)\n",
    "fit_predict_show_performance(classifier, X_resampled, y_resampled)"
   ]
  }
 ],
 "metadata": {
  "kernelspec": {
   "display_name": "Python 3",
   "language": "python",
   "name": "python3"
  },
  "language_info": {
   "codemirror_mode": {
    "name": "ipython",
    "version": 3
   },
   "file_extension": ".py",
   "mimetype": "text/x-python",
   "name": "python",
   "nbconvert_exporter": "python",
   "pygments_lexer": "ipython3",
   "version": "3.6.4"
  }
 },
 "nbformat": 4,
 "nbformat_minor": 2
}
